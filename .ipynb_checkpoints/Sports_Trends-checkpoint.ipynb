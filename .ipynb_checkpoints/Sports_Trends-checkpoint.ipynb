{
 "cells": [
  {
   "cell_type": "code",
   "execution_count": 1,
   "id": "ea4a55ee",
   "metadata": {},
   "outputs": [],
   "source": [
    "from pytrends.request import TrendReq\n",
    "\n",
    "pytrends = TrendReq(hl='en-US', tz=360)"
   ]
  },
  {
   "cell_type": "code",
   "execution_count": 2,
   "id": "cf557bd8",
   "metadata": {},
   "outputs": [],
   "source": [
    "kw_list = [\"NFL\", \"MLB\", \"Premier League\", \"NBA\"]\n",
    "pytrends.build_payload(kw_list, cat=0, timeframe='today 5-y', geo='', gprop='')"
   ]
  },
  {
   "cell_type": "code",
   "execution_count": 6,
   "id": "0c8e91b4",
   "metadata": {},
   "outputs": [
    {
     "name": "stdout",
     "output_type": "stream",
     "text": [
      "{'google_rl': 'You have reached your quota limit. Please try again later.', 'results': None, 'tz': 360, 'hl': 'en-US', 'geo': '', 'kw_list': ['NFL', 'MLB', 'Premier League', 'NBA'], 'timeout': (2, 5), 'proxies': '', 'retries': 0, 'backoff_factor': 0, 'proxy_index': 0, 'requests_args': {}, 'cookies': {'NID': '511=OHf5KDqZ1Gn4EFWmj5LLUy9FZp79JOsnJ-Vi1Js-y43s3RbMAJ_SGXQJ3NYovSzZq92c9xHcqvPeZvNvM3cdCL2S3ood_94s9hFHqa4PSvIOlG4mTULRWcApbCI8Sb57IOKp0umyhPbFqNJoVdyYM-ReRFjOig4qEEGMiLtF4Zo'}, 'token_payload': {'hl': 'en-US', 'tz': 360, 'req': '{\"comparisonItem\": [{\"keyword\": \"NFL\", \"time\": \"today 5-y\", \"geo\": \"\"}, {\"keyword\": \"MLB\", \"time\": \"today 5-y\", \"geo\": \"\"}, {\"keyword\": \"Premier League\", \"time\": \"today 5-y\", \"geo\": \"\"}, {\"keyword\": \"NBA\", \"time\": \"today 5-y\", \"geo\": \"\"}], \"category\": 0, \"property\": \"\"}'}, 'interest_over_time_widget': {'request': {'time': '2017-05-03 2022-05-03', 'resolution': 'WEEK', 'locale': 'en-US', 'comparisonItem': [{'geo': {}, 'complexKeywordsRestriction': {'keyword': [{'type': 'BROAD', 'value': 'NFL'}]}}, {'geo': {}, 'complexKeywordsRestriction': {'keyword': [{'type': 'BROAD', 'value': 'MLB'}]}}, {'geo': {}, 'complexKeywordsRestriction': {'keyword': [{'type': 'BROAD', 'value': 'Premier League'}]}}, {'geo': {}, 'complexKeywordsRestriction': {'keyword': [{'type': 'BROAD', 'value': 'NBA'}]}}], 'requestOptions': {'property': '', 'backend': 'IZG', 'category': 0}}, 'lineAnnotationText': 'Search interest', 'bullets': [{'text': 'NFL'}, {'text': 'MLB'}, {'text': 'Premier League'}, {'text': 'NBA'}], 'showLegend': False, 'showAverages': True, 'helpDialog': {'title': 'Interest over time', 'content': 'Numbers represent search interest relative to the highest point on the chart for the given region and time. A value of 100 is the peak popularity for the term. A value of 50 means that the term is half as popular. A score of 0 means there was not enough data for this term.'}, 'token': 'APP6_UEAAAAAYnHwW9J2OKfFqFqDizgrYpmkNMDNq6Lz', 'id': 'TIMESERIES', 'type': 'fe_line_chart', 'title': 'Interest over time', 'template': 'fe', 'embedTemplate': 'fe_embed', 'version': '1', 'isLong': True, 'isCurated': False}, 'interest_by_region_widget': {'request': {'geo': {}, 'comparisonItem': [{'time': '2017-05-03 2022-05-03', 'complexKeywordsRestriction': {'keyword': [{'type': 'BROAD', 'value': 'NFL'}]}}, {'time': '2017-05-03 2022-05-03', 'complexKeywordsRestriction': {'keyword': [{'type': 'BROAD', 'value': 'MLB'}]}}, {'time': '2017-05-03 2022-05-03', 'complexKeywordsRestriction': {'keyword': [{'type': 'BROAD', 'value': 'Premier League'}]}}, {'time': '2017-05-03 2022-05-03', 'complexKeywordsRestriction': {'keyword': [{'type': 'BROAD', 'value': 'NBA'}]}}], 'resolution': 'COUNTRY', 'locale': 'en-US', 'requestOptions': {'property': '', 'backend': 'IZG', 'category': 0}, 'dataMode': 'PERCENTAGES'}, 'geo': 'world', 'resolution': 'countries', 'searchInterestLabel': 'Search interest', 'displayMode': 'regions', 'showLegend': False, 'helpDialog': {'title': 'Compared breakdown by region', 'content': 'See which term ranked highest in each region during the specified time frame. Values are scaled from 0 to 100, where 100 is the region with peak popularity, a value of 50 is the region where the term is half as popular, and a value of 0 means that term was less than 1% as popular as the peak.'}, 'bullets': [{'value': 'NFL', 'color': 'PALETTE_COLOR_1'}, {'value': 'MLB', 'color': 'PALETTE_COLOR_2'}, {'value': 'Premier League', 'color': 'PALETTE_COLOR_3'}, {'value': 'NBA', 'color': 'PALETTE_COLOR_4'}], 'token': 'APP6_UEAAAAAYnHwW0qqbkaHKQsjIHg1PQ-U0dWgWhx5', 'id': 'GEO_MAP', 'type': 'fe_multi_heat_map', 'title': 'Compared breakdown by region', 'template': 'fe', 'embedTemplate': 'fe_embed', 'version': '1', 'isLong': True, 'isCurated': False}, 'related_topics_widget_list': [], 'related_queries_widget_list': [{'request': {'restriction': {'geo': {}, 'time': '2017-05-03 2022-05-03', 'originalTimeRangeForExploreUrl': 'today 5-y', 'complexKeywordsRestriction': {'keyword': [{'type': 'BROAD', 'value': 'NFL'}]}}, 'keywordType': 'QUERY', 'metric': ['TOP', 'RISING'], 'trendinessSettings': {'compareTime': '2012-05-02 2017-05-02'}, 'requestOptions': {'property': '', 'backend': 'IZG', 'category': 0}, 'language': 'en', 'userCountryCode': 'US'}, 'helpDialog': {'title': 'Related queries', 'content': 'Users searching for your term also searched for these queries. You can sort by the following metrics: <p>* <b>Top</b> - The most popular search queries. Scoring is on a relative scale where a value of 100 is the most commonly searched query, 50 is a query searched half as often as the most popular query, and so on. <p>* <b>Rising</b> - Queries with the biggest increase in search frequency since the last time period. Results marked \"Breakout\" had a tremendous increase, probably because these queries are new and had few (if any) prior searches.', 'url': 'https://support.google.com/trends/answer/4355000'}, 'color': 'PALETTE_COLOR_1', 'keywordName': 'NFL', 'token': 'APP6_UEAAAAAYnHwWzU1bD553ijlrkolGAS1i3ol5We1', 'id': 'RELATED_QUERIES_0', 'type': 'fe_related_searches', 'title': 'Related queries', 'template': 'fe', 'embedTemplate': 'fe_embed', 'version': '1', 'isLong': False, 'isCurated': False}, {'request': {'restriction': {'geo': {}, 'time': '2017-05-03 2022-05-03', 'originalTimeRangeForExploreUrl': 'today 5-y', 'complexKeywordsRestriction': {'keyword': [{'type': 'BROAD', 'value': 'MLB'}]}}, 'keywordType': 'QUERY', 'metric': ['TOP', 'RISING'], 'trendinessSettings': {'compareTime': '2012-05-02 2017-05-02'}, 'requestOptions': {'property': '', 'backend': 'IZG', 'category': 0}, 'language': 'en', 'userCountryCode': 'US'}, 'helpDialog': {'title': 'Related queries', 'content': 'Users searching for your term also searched for these queries. You can sort by the following metrics: <p>* <b>Top</b> - The most popular search queries. Scoring is on a relative scale where a value of 100 is the most commonly searched query, 50 is a query searched half as often as the most popular query, and so on. <p>* <b>Rising</b> - Queries with the biggest increase in search frequency since the last time period. Results marked \"Breakout\" had a tremendous increase, probably because these queries are new and had few (if any) prior searches.', 'url': 'https://support.google.com/trends/answer/4355000'}, 'color': 'PALETTE_COLOR_2', 'keywordName': 'MLB', 'token': 'APP6_UEAAAAAYnHwWxdGqa_OcCdgA112_n50Iq_wKvUi', 'id': 'RELATED_QUERIES_1', 'type': 'fe_related_searches', 'title': 'Related queries', 'template': 'fe', 'embedTemplate': 'fe_embed', 'version': '1', 'isLong': False, 'isCurated': False}, {'request': {'restriction': {'geo': {}, 'time': '2017-05-03 2022-05-03', 'originalTimeRangeForExploreUrl': 'today 5-y', 'complexKeywordsRestriction': {'keyword': [{'type': 'BROAD', 'value': 'Premier League'}]}}, 'keywordType': 'QUERY', 'metric': ['TOP', 'RISING'], 'trendinessSettings': {'compareTime': '2012-05-02 2017-05-02'}, 'requestOptions': {'property': '', 'backend': 'IZG', 'category': 0}, 'language': 'en', 'userCountryCode': 'US'}, 'helpDialog': {'title': 'Related queries', 'content': 'Users searching for your term also searched for these queries. You can sort by the following metrics: <p>* <b>Top</b> - The most popular search queries. Scoring is on a relative scale where a value of 100 is the most commonly searched query, 50 is a query searched half as often as the most popular query, and so on. <p>* <b>Rising</b> - Queries with the biggest increase in search frequency since the last time period. Results marked \"Breakout\" had a tremendous increase, probably because these queries are new and had few (if any) prior searches.', 'url': 'https://support.google.com/trends/answer/4355000'}, 'color': 'PALETTE_COLOR_3', 'keywordName': 'Premier League', 'token': 'APP6_UEAAAAAYnHwW5TnvH6tOQ3gL_3cAEwPVJuhs_lj', 'id': 'RELATED_QUERIES_2', 'type': 'fe_related_searches', 'title': 'Related queries', 'template': 'fe', 'embedTemplate': 'fe_embed', 'version': '1', 'isLong': False, 'isCurated': False}, {'request': {'restriction': {'geo': {}, 'time': '2017-05-03 2022-05-03', 'originalTimeRangeForExploreUrl': 'today 5-y', 'complexKeywordsRestriction': {'keyword': [{'type': 'BROAD', 'value': 'NBA'}]}}, 'keywordType': 'QUERY', 'metric': ['TOP', 'RISING'], 'trendinessSettings': {'compareTime': '2012-05-02 2017-05-02'}, 'requestOptions': {'property': '', 'backend': 'IZG', 'category': 0}, 'language': 'en', 'userCountryCode': 'US'}, 'helpDialog': {'title': 'Related queries', 'content': 'Users searching for your term also searched for these queries. You can sort by the following metrics: <p>* <b>Top</b> - The most popular search queries. Scoring is on a relative scale where a value of 100 is the most commonly searched query, 50 is a query searched half as often as the most popular query, and so on. <p>* <b>Rising</b> - Queries with the biggest increase in search frequency since the last time period. Results marked \"Breakout\" had a tremendous increase, probably because these queries are new and had few (if any) prior searches.', 'url': 'https://support.google.com/trends/answer/4355000'}, 'color': 'PALETTE_COLOR_4', 'keywordName': 'NBA', 'token': 'APP6_UEAAAAAYnHwW9P7tbuwImc-mpico3MEpKl0LtUk', 'id': 'RELATED_QUERIES_3', 'type': 'fe_related_searches', 'title': 'Related queries', 'template': 'fe', 'embedTemplate': 'fe_embed', 'version': '1', 'isLong': False, 'isCurated': False}]}\n"
     ]
    }
   ],
   "source": [
    "print(pytrends.__dict__)"
   ]
  },
  {
   "cell_type": "code",
   "execution_count": 4,
   "id": "663fcc72",
   "metadata": {},
   "outputs": [],
   "source": [
    "# Dependencies and Setup\n",
    "import matplotlib.pyplot as plt\n",
    "import pandas as pd\n",
    "import numpy as np\n",
    "import os"
   ]
  },
  {
   "cell_type": "code",
   "execution_count": 5,
   "id": "db0af69b",
   "metadata": {},
   "outputs": [
    {
     "ename": "ValueError",
     "evalue": "DataFrame constructor not properly called!",
     "output_type": "error",
     "traceback": [
      "\u001b[0;31m---------------------------------------------------------------------------\u001b[0m",
      "\u001b[0;31mValueError\u001b[0m                                Traceback (most recent call last)",
      "\u001b[0;32m/var/folders/09/5py7qhsj2d3bxd9sxpcxvwt80000gn/T/ipykernel_50213/3132954641.py\u001b[0m in \u001b[0;36m<module>\u001b[0;34m\u001b[0m\n\u001b[0;32m----> 1\u001b[0;31m \u001b[0mtrend_data\u001b[0m \u001b[0;34m=\u001b[0m \u001b[0mpd\u001b[0m\u001b[0;34m.\u001b[0m\u001b[0mDataFrame\u001b[0m\u001b[0;34m(\u001b[0m\u001b[0mpytrends\u001b[0m\u001b[0;34m)\u001b[0m\u001b[0;34m\u001b[0m\u001b[0;34m\u001b[0m\u001b[0m\n\u001b[0m\u001b[1;32m      2\u001b[0m \u001b[0mdisplay\u001b[0m\u001b[0;34m(\u001b[0m\u001b[0mtrend_data\u001b[0m\u001b[0;34m)\u001b[0m\u001b[0;34m\u001b[0m\u001b[0;34m\u001b[0m\u001b[0m\n",
      "\u001b[0;32m~/opt/anaconda3/lib/python3.9/site-packages/pandas/core/frame.py\u001b[0m in \u001b[0;36m__init__\u001b[0;34m(self, data, index, columns, dtype, copy)\u001b[0m\n\u001b[1;32m    728\u001b[0m         \u001b[0;32melse\u001b[0m\u001b[0;34m:\u001b[0m\u001b[0;34m\u001b[0m\u001b[0;34m\u001b[0m\u001b[0m\n\u001b[1;32m    729\u001b[0m             \u001b[0;32mif\u001b[0m \u001b[0mindex\u001b[0m \u001b[0;32mis\u001b[0m \u001b[0;32mNone\u001b[0m \u001b[0;32mor\u001b[0m \u001b[0mcolumns\u001b[0m \u001b[0;32mis\u001b[0m \u001b[0;32mNone\u001b[0m\u001b[0;34m:\u001b[0m\u001b[0;34m\u001b[0m\u001b[0;34m\u001b[0m\u001b[0m\n\u001b[0;32m--> 730\u001b[0;31m                 \u001b[0;32mraise\u001b[0m \u001b[0mValueError\u001b[0m\u001b[0;34m(\u001b[0m\u001b[0;34m\"DataFrame constructor not properly called!\"\u001b[0m\u001b[0;34m)\u001b[0m\u001b[0;34m\u001b[0m\u001b[0;34m\u001b[0m\u001b[0m\n\u001b[0m\u001b[1;32m    731\u001b[0m \u001b[0;34m\u001b[0m\u001b[0m\n\u001b[1;32m    732\u001b[0m             \u001b[0;31m# Argument 1 to \"ensure_index\" has incompatible type \"Collection[Any]\";\u001b[0m\u001b[0;34m\u001b[0m\u001b[0;34m\u001b[0m\u001b[0m\n",
      "\u001b[0;31mValueError\u001b[0m: DataFrame constructor not properly called!"
     ]
    }
   ],
   "source": [
    "trend_data = pd.DataFrame(pytrends)\n",
    "display(trend_data)"
   ]
  },
  {
   "cell_type": "code",
   "execution_count": null,
   "id": "58ee64c0",
   "metadata": {},
   "outputs": [],
   "source": []
  }
 ],
 "metadata": {
  "kernelspec": {
   "display_name": "Python 3 (ipykernel)",
   "language": "python",
   "name": "python3"
  },
  "language_info": {
   "codemirror_mode": {
    "name": "ipython",
    "version": 3
   },
   "file_extension": ".py",
   "mimetype": "text/x-python",
   "name": "python",
   "nbconvert_exporter": "python",
   "pygments_lexer": "ipython3",
   "version": "3.9.7"
  }
 },
 "nbformat": 4,
 "nbformat_minor": 5
}
